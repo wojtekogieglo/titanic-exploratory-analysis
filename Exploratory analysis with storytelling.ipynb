{
 "cells": [
  {
   "cell_type": "markdown",
   "metadata": {},
   "source": [
    "# Analiza danych z wizualizacją (storytelling)\n",
    "#### Wojciech Ogiegło\n",
    "\n",
    "Zbiór danych, który wybrałem do wizualizacji to popularny zbiór zawierający informacje o katastrofie Titanica. \n",
    "\n",
    "## Wstęp\n",
    "\n",
    "Budowa statku Titanic została zakończona w 1911 roku. Został on słusznie okrzyknięty mianem największego oraz najwspanialszego statku pasażerskiego świata. Titanic był bardzo szybkim jak na tamte czasy statkiem, płynął z prędkością maksymalną 22 węzłów, czyli około 40 km/h. Został zaprojektowany w taki sposób, aby pobić rekord przepłynięcia Atlantyku. W nocy z 14 na 15 kwietnia 1912 roku, podczas swojego dziewiczego rejsu na trasie Southampton-Cherbourg-Queenstown-Nowy Jork, RMS Titanic zderzył się z górą lodową i zatonął.\n",
    "\n",
    "## Analiza danych i storytelling\n",
    "\n",
    "Najbardziej interesujące z punktu widzenia analizy danych są informacje kto miał największe szanse na przeżycie słynnej katastrofy. Postaram się to objaśnić w pracy.\n",
    "\n",
    "Na samym początku analizy należy wczytać wszystkie potrzebne biblioteki."
   ]
  },
  {
   "cell_type": "code",
   "execution_count": 1,
   "metadata": {},
   "outputs": [],
   "source": [
    "import numpy as np\n",
    "import pandas as pd\n",
    "import math\n",
    "import ipywidgets as widgets\n",
    "import matplotlib.pyplot as plt\n",
    "import seaborn as sns"
   ]
  },
  {
   "cell_type": "markdown",
   "metadata": {},
   "source": [
    "Następnie należy wczytać zbiór danych."
   ]
  },
  {
   "cell_type": "code",
   "execution_count": 2,
   "metadata": {},
   "outputs": [],
   "source": [
    "data = pd.read_csv('Titanic.csv', sep=',')"
   ]
  },
  {
   "cell_type": "markdown",
   "metadata": {},
   "source": [
    "W celu zapoznania się ze zbiorem danych zostały wyświetlone podstawowe informacje o zbiorze danych:"
   ]
  },
  {
   "cell_type": "code",
   "execution_count": 3,
   "metadata": {},
   "outputs": [
    {
     "name": "stdout",
     "output_type": "stream",
     "text": [
      "<class 'pandas.core.frame.DataFrame'>\n",
      "RangeIndex: 891 entries, 0 to 890\n",
      "Data columns (total 12 columns):\n",
      " #   Column       Non-Null Count  Dtype  \n",
      "---  ------       --------------  -----  \n",
      " 0   PassengerId  891 non-null    int64  \n",
      " 1   Survived     891 non-null    int64  \n",
      " 2   Pclass       891 non-null    int64  \n",
      " 3   Name         891 non-null    object \n",
      " 4   Sex          891 non-null    object \n",
      " 5   Age          714 non-null    float64\n",
      " 6   SibSp        891 non-null    int64  \n",
      " 7   Parch        891 non-null    int64  \n",
      " 8   Ticket       891 non-null    object \n",
      " 9   Fare         891 non-null    float64\n",
      " 10  Cabin        204 non-null    object \n",
      " 11  Embarked     889 non-null    object \n",
      "dtypes: float64(2), int64(5), object(5)\n",
      "memory usage: 83.7+ KB\n"
     ]
    }
   ],
   "source": [
    "data.info()"
   ]
  },
  {
   "cell_type": "markdown",
   "metadata": {},
   "source": [
    "A także kilka pierwszych rekordów:"
   ]
  },
  {
   "cell_type": "code",
   "execution_count": 4,
   "metadata": {},
   "outputs": [
    {
     "data": {
      "text/html": [
       "<div>\n",
       "<style scoped>\n",
       "    .dataframe tbody tr th:only-of-type {\n",
       "        vertical-align: middle;\n",
       "    }\n",
       "\n",
       "    .dataframe tbody tr th {\n",
       "        vertical-align: top;\n",
       "    }\n",
       "\n",
       "    .dataframe thead th {\n",
       "        text-align: right;\n",
       "    }\n",
       "</style>\n",
       "<table border=\"1\" class=\"dataframe\">\n",
       "  <thead>\n",
       "    <tr style=\"text-align: right;\">\n",
       "      <th></th>\n",
       "      <th>PassengerId</th>\n",
       "      <th>Survived</th>\n",
       "      <th>Pclass</th>\n",
       "      <th>Name</th>\n",
       "      <th>Sex</th>\n",
       "      <th>Age</th>\n",
       "      <th>SibSp</th>\n",
       "      <th>Parch</th>\n",
       "      <th>Ticket</th>\n",
       "      <th>Fare</th>\n",
       "      <th>Cabin</th>\n",
       "      <th>Embarked</th>\n",
       "    </tr>\n",
       "  </thead>\n",
       "  <tbody>\n",
       "    <tr>\n",
       "      <th>0</th>\n",
       "      <td>1</td>\n",
       "      <td>0</td>\n",
       "      <td>3</td>\n",
       "      <td>Braund, Mr. Owen Harris</td>\n",
       "      <td>male</td>\n",
       "      <td>22.0</td>\n",
       "      <td>1</td>\n",
       "      <td>0</td>\n",
       "      <td>A/5 21171</td>\n",
       "      <td>7.2500</td>\n",
       "      <td>NaN</td>\n",
       "      <td>S</td>\n",
       "    </tr>\n",
       "    <tr>\n",
       "      <th>1</th>\n",
       "      <td>2</td>\n",
       "      <td>1</td>\n",
       "      <td>1</td>\n",
       "      <td>Cumings, Mrs. John Bradley (Florence Briggs Th...</td>\n",
       "      <td>female</td>\n",
       "      <td>38.0</td>\n",
       "      <td>1</td>\n",
       "      <td>0</td>\n",
       "      <td>PC 17599</td>\n",
       "      <td>71.2833</td>\n",
       "      <td>C85</td>\n",
       "      <td>C</td>\n",
       "    </tr>\n",
       "    <tr>\n",
       "      <th>2</th>\n",
       "      <td>3</td>\n",
       "      <td>1</td>\n",
       "      <td>3</td>\n",
       "      <td>Heikkinen, Miss. Laina</td>\n",
       "      <td>female</td>\n",
       "      <td>26.0</td>\n",
       "      <td>0</td>\n",
       "      <td>0</td>\n",
       "      <td>STON/O2. 3101282</td>\n",
       "      <td>7.9250</td>\n",
       "      <td>NaN</td>\n",
       "      <td>S</td>\n",
       "    </tr>\n",
       "    <tr>\n",
       "      <th>3</th>\n",
       "      <td>4</td>\n",
       "      <td>1</td>\n",
       "      <td>1</td>\n",
       "      <td>Futrelle, Mrs. Jacques Heath (Lily May Peel)</td>\n",
       "      <td>female</td>\n",
       "      <td>35.0</td>\n",
       "      <td>1</td>\n",
       "      <td>0</td>\n",
       "      <td>113803</td>\n",
       "      <td>53.1000</td>\n",
       "      <td>C123</td>\n",
       "      <td>S</td>\n",
       "    </tr>\n",
       "    <tr>\n",
       "      <th>4</th>\n",
       "      <td>5</td>\n",
       "      <td>0</td>\n",
       "      <td>3</td>\n",
       "      <td>Allen, Mr. William Henry</td>\n",
       "      <td>male</td>\n",
       "      <td>35.0</td>\n",
       "      <td>0</td>\n",
       "      <td>0</td>\n",
       "      <td>373450</td>\n",
       "      <td>8.0500</td>\n",
       "      <td>NaN</td>\n",
       "      <td>S</td>\n",
       "    </tr>\n",
       "  </tbody>\n",
       "</table>\n",
       "</div>"
      ],
      "text/plain": [
       "   PassengerId  Survived  Pclass  \\\n",
       "0            1         0       3   \n",
       "1            2         1       1   \n",
       "2            3         1       3   \n",
       "3            4         1       1   \n",
       "4            5         0       3   \n",
       "\n",
       "                                                Name     Sex   Age  SibSp  \\\n",
       "0                            Braund, Mr. Owen Harris    male  22.0      1   \n",
       "1  Cumings, Mrs. John Bradley (Florence Briggs Th...  female  38.0      1   \n",
       "2                             Heikkinen, Miss. Laina  female  26.0      0   \n",
       "3       Futrelle, Mrs. Jacques Heath (Lily May Peel)  female  35.0      1   \n",
       "4                           Allen, Mr. William Henry    male  35.0      0   \n",
       "\n",
       "   Parch            Ticket     Fare Cabin Embarked  \n",
       "0      0         A/5 21171   7.2500   NaN        S  \n",
       "1      0          PC 17599  71.2833   C85        C  \n",
       "2      0  STON/O2. 3101282   7.9250   NaN        S  \n",
       "3      0            113803  53.1000  C123        S  \n",
       "4      0            373450   8.0500   NaN        S  "
      ]
     },
     "execution_count": 4,
     "metadata": {},
     "output_type": "execute_result"
    }
   ],
   "source": [
    "data.head()"
   ]
  },
  {
   "cell_type": "markdown",
   "metadata": {},
   "source": [
    "Jak widać, zbiór danych składa się z 891 instancji oraz 11 zmiennych. Zmienne przedstawiają się następująco:\n",
    "\n",
    "* PassengerId - Identyfikator pasażera\n",
    "* Survived - Informacja czy pasażer przeżył katastrofe, 0 - nie przeżył, 1 - przeżył\n",
    "* Pclass - Klasa biletu pasażera, 1, 2 oraz 3 klasa\n",
    "* Name - Imię i nazwisko pasażera\n",
    "* Sex - Płeć pasażera\n",
    "* Age - Wiek w latach\n",
    "* SibSp - Liczba pasażerów w postaci rodzeństwa lub męża/żony, z którymi pasażer podróżował\n",
    "* Parch - Liczba pasażerów w postaci rodziców lub dzieci, z którymi pasażer podróżował. Niektóre dzieci podróżowały z nianią - w tym przypadku zmienna przyjmuje wartość 0\n",
    "* Ticket - Identyfikator biletu\n",
    "* Fare - Opłata za bilet\n",
    "* Cabin - Numer kabiny\n",
    "* Embarked - Port, na którym wsiadał, C - Cherbourg, Q - Queenstown, S - Southampton\n",
    "\n",
    "W związku z tym, że istnieje kilka nieścisłości w danych należy coś z nimi zrobić, czyli przeprowadzić tzw. preprocessing, do którego zalicza się takie rzeczy jak:\n",
    "* usunięcie niepotrzebnych kolumn do analizy,\n",
    "* usunięcie brakujących wartości,\n",
    "* zaokrąglenie wartości zmiennych żeby uzyskać je w postaci całkowitej,\n",
    "* połączenie wartości z kolumn w jedną dodatkową kolumnę.\n",
    "\n",
    "Wszystkie wspomniane rzeczy zostały przedstawione poniżej.\n",
    "\n",
    "Na początek wziąłem pod uwagę usunięcie niepotrzebnych kolumn do analizy - oznacza to, że zmienne te są nieinformatywne, w związku z czym nie ma sensu ich trzymać w zbiorze danych."
   ]
  },
  {
   "cell_type": "code",
   "execution_count": 5,
   "metadata": {},
   "outputs": [
    {
     "name": "stdout",
     "output_type": "stream",
     "text": [
      "<class 'pandas.core.frame.DataFrame'>\n",
      "RangeIndex: 891 entries, 0 to 890\n",
      "Data columns (total 9 columns):\n",
      " #   Column       Non-Null Count  Dtype  \n",
      "---  ------       --------------  -----  \n",
      " 0   PassengerId  891 non-null    int64  \n",
      " 1   Survived     891 non-null    int64  \n",
      " 2   Pclass       891 non-null    int64  \n",
      " 3   Sex          891 non-null    object \n",
      " 4   Age          714 non-null    float64\n",
      " 5   SibSp        891 non-null    int64  \n",
      " 6   Parch        891 non-null    int64  \n",
      " 7   Fare         891 non-null    float64\n",
      " 8   Embarked     889 non-null    object \n",
      "dtypes: float64(2), int64(5), object(2)\n",
      "memory usage: 62.8+ KB\n"
     ]
    }
   ],
   "source": [
    "data = data.drop(['Ticket', 'Cabin', 'Name'], axis=1)\n",
    "data.info()"
   ]
  },
  {
   "cell_type": "markdown",
   "metadata": {},
   "source": [
    "Jak widać powyzej, niepotrzebne zmienne zostały usunięte.\n",
    "\n",
    "Teraz przechodzimy do usunięcia brakujących wartości, w przypadku zmiennej ,,Age'' uzupełnimy je średnią wartością, a w przypadku ,,Embarked'' usuniemy dwa wiersze posiadające wspomniane brakujące wartości."
   ]
  },
  {
   "cell_type": "code",
   "execution_count": 6,
   "metadata": {},
   "outputs": [
    {
     "name": "stdout",
     "output_type": "stream",
     "text": [
      "<class 'pandas.core.frame.DataFrame'>\n",
      "Int64Index: 889 entries, 0 to 890\n",
      "Data columns (total 9 columns):\n",
      " #   Column       Non-Null Count  Dtype  \n",
      "---  ------       --------------  -----  \n",
      " 0   PassengerId  889 non-null    int64  \n",
      " 1   Survived     889 non-null    int64  \n",
      " 2   Pclass       889 non-null    int64  \n",
      " 3   Sex          889 non-null    object \n",
      " 4   Age          889 non-null    float64\n",
      " 5   SibSp        889 non-null    int64  \n",
      " 6   Parch        889 non-null    int64  \n",
      " 7   Fare         889 non-null    float64\n",
      " 8   Embarked     889 non-null    object \n",
      "dtypes: float64(2), int64(5), object(2)\n",
      "memory usage: 69.5+ KB\n"
     ]
    }
   ],
   "source": [
    "data['Age'] = data['Age'].fillna(data['Age'].mean())\n",
    "data = data[data['Embarked'].notna()]\n",
    "data.info()"
   ]
  },
  {
   "cell_type": "markdown",
   "metadata": {},
   "source": [
    "Kolejną rzeczą, którą trzeba wykonać to zaokrąglenie wartości zmiennych - w przypadku zmiennej ,,Age'' czy ,,Fare'' mamy informacje, że są one zapisane w postaci zmiennoprzecinkowej, należy je zaokrąglić aby uzyskać je w postaci liczb całkowitych."
   ]
  },
  {
   "cell_type": "code",
   "execution_count": 7,
   "metadata": {},
   "outputs": [
    {
     "name": "stdout",
     "output_type": "stream",
     "text": [
      "<class 'pandas.core.frame.DataFrame'>\n",
      "Int64Index: 889 entries, 0 to 890\n",
      "Data columns (total 9 columns):\n",
      " #   Column       Non-Null Count  Dtype \n",
      "---  ------       --------------  ----- \n",
      " 0   PassengerId  889 non-null    int64 \n",
      " 1   Survived     889 non-null    int64 \n",
      " 2   Pclass       889 non-null    int64 \n",
      " 3   Sex          889 non-null    object\n",
      " 4   Age          889 non-null    int64 \n",
      " 5   SibSp        889 non-null    int64 \n",
      " 6   Parch        889 non-null    int64 \n",
      " 7   Fare         889 non-null    int64 \n",
      " 8   Embarked     889 non-null    object\n",
      "dtypes: int64(7), object(2)\n",
      "memory usage: 69.5+ KB\n"
     ]
    }
   ],
   "source": [
    "data['Age'] = data['Age'].apply(math.ceil)\n",
    "data['Fare'] = data['Fare'].apply(math.ceil)\n",
    "data.info()"
   ]
  },
  {
   "cell_type": "markdown",
   "metadata": {},
   "source": [
    "Ostatnią rzeczą, która przyda się w analizie jest zoptymalizowanie liczby osób, z którymi pasażer podróżował. Biorąc pod uwagę, że w zmiennej ,,SibSp'' przechowywana jest liczba współpasażerów w postaci rodzeństwa lub męża/żony, a w zmiennej ,,Parch'' liczba współpasażerów w postaci rodziców lub dzieci to można połączyć wartości tych dwóch zmiennych w jedną jako sumę współpasażerów danej osoby. "
   ]
  },
  {
   "cell_type": "code",
   "execution_count": 8,
   "metadata": {},
   "outputs": [
    {
     "data": {
      "text/html": [
       "<div>\n",
       "<style scoped>\n",
       "    .dataframe tbody tr th:only-of-type {\n",
       "        vertical-align: middle;\n",
       "    }\n",
       "\n",
       "    .dataframe tbody tr th {\n",
       "        vertical-align: top;\n",
       "    }\n",
       "\n",
       "    .dataframe thead th {\n",
       "        text-align: right;\n",
       "    }\n",
       "</style>\n",
       "<table border=\"1\" class=\"dataframe\">\n",
       "  <thead>\n",
       "    <tr style=\"text-align: right;\">\n",
       "      <th></th>\n",
       "      <th>PassengerId</th>\n",
       "      <th>Survived</th>\n",
       "      <th>Pclass</th>\n",
       "      <th>Sex</th>\n",
       "      <th>Age</th>\n",
       "      <th>SibSp</th>\n",
       "      <th>Parch</th>\n",
       "      <th>Fare</th>\n",
       "      <th>Embarked</th>\n",
       "      <th>FamilySize</th>\n",
       "    </tr>\n",
       "  </thead>\n",
       "  <tbody>\n",
       "    <tr>\n",
       "      <th>0</th>\n",
       "      <td>1</td>\n",
       "      <td>0</td>\n",
       "      <td>3</td>\n",
       "      <td>male</td>\n",
       "      <td>22</td>\n",
       "      <td>1</td>\n",
       "      <td>0</td>\n",
       "      <td>8</td>\n",
       "      <td>S</td>\n",
       "      <td>1</td>\n",
       "    </tr>\n",
       "    <tr>\n",
       "      <th>1</th>\n",
       "      <td>2</td>\n",
       "      <td>1</td>\n",
       "      <td>1</td>\n",
       "      <td>female</td>\n",
       "      <td>38</td>\n",
       "      <td>1</td>\n",
       "      <td>0</td>\n",
       "      <td>72</td>\n",
       "      <td>C</td>\n",
       "      <td>1</td>\n",
       "    </tr>\n",
       "    <tr>\n",
       "      <th>2</th>\n",
       "      <td>3</td>\n",
       "      <td>1</td>\n",
       "      <td>3</td>\n",
       "      <td>female</td>\n",
       "      <td>26</td>\n",
       "      <td>0</td>\n",
       "      <td>0</td>\n",
       "      <td>8</td>\n",
       "      <td>S</td>\n",
       "      <td>0</td>\n",
       "    </tr>\n",
       "    <tr>\n",
       "      <th>3</th>\n",
       "      <td>4</td>\n",
       "      <td>1</td>\n",
       "      <td>1</td>\n",
       "      <td>female</td>\n",
       "      <td>35</td>\n",
       "      <td>1</td>\n",
       "      <td>0</td>\n",
       "      <td>54</td>\n",
       "      <td>S</td>\n",
       "      <td>1</td>\n",
       "    </tr>\n",
       "    <tr>\n",
       "      <th>4</th>\n",
       "      <td>5</td>\n",
       "      <td>0</td>\n",
       "      <td>3</td>\n",
       "      <td>male</td>\n",
       "      <td>35</td>\n",
       "      <td>0</td>\n",
       "      <td>0</td>\n",
       "      <td>9</td>\n",
       "      <td>S</td>\n",
       "      <td>0</td>\n",
       "    </tr>\n",
       "  </tbody>\n",
       "</table>\n",
       "</div>"
      ],
      "text/plain": [
       "   PassengerId  Survived  Pclass     Sex  Age  SibSp  Parch  Fare Embarked  \\\n",
       "0            1         0       3    male   22      1      0     8        S   \n",
       "1            2         1       1  female   38      1      0    72        C   \n",
       "2            3         1       3  female   26      0      0     8        S   \n",
       "3            4         1       1  female   35      1      0    54        S   \n",
       "4            5         0       3    male   35      0      0     9        S   \n",
       "\n",
       "   FamilySize  \n",
       "0           1  \n",
       "1           1  \n",
       "2           0  \n",
       "3           1  \n",
       "4           0  "
      ]
     },
     "execution_count": 8,
     "metadata": {},
     "output_type": "execute_result"
    }
   ],
   "source": [
    "familySize = pd.DataFrame(data.apply(lambda x: x.SibSp+x.Parch, axis=1), columns=[\"FamilySize\"])\n",
    "data = data.join(familySize)\n",
    "data.head()"
   ]
  },
  {
   "cell_type": "markdown",
   "metadata": {},
   "source": [
    "Po wykonaniu wszystkich czynności związanych z przygotowaniem danych, mogę je przedstawić w formie interaktywnej. Poniżej zostały napisane funkcje, które są wykorzystane do przedstawienia danych w formie interaktywnej - każdy może sobie wybierać wartości do filtrowania danych.\n",
    "\n",
    "Oprócz przedstawienia zmiennych, zostały również stworzone dwie dodatkowe zmienne ,,survived'' oraz ,,non_survived'' - przechowujące informacje o pasażerach, którzy przeżyli oraz takich, którym się to nie udało.\n",
    "\n",
    "#### Interaktywna forma przedstawienia danych"
   ]
  },
  {
   "cell_type": "code",
   "execution_count": 9,
   "metadata": {},
   "outputs": [
    {
     "data": {
      "application/vnd.jupyter.widget-view+json": {
       "model_id": "0bf9e7043c6646d8b9fe74c85b3fa950",
       "version_major": 2,
       "version_minor": 0
      },
      "text/plain": [
       "Dropdown(description='Przeżycie', options=('Wszystkie', 0, 1), value='Wszystkie')"
      ]
     },
     "metadata": {},
     "output_type": "display_data"
    },
    {
     "data": {
      "application/vnd.jupyter.widget-view+json": {
       "model_id": "d3621485c462407d806df68e4ef83efa",
       "version_major": 2,
       "version_minor": 0
      },
      "text/plain": [
       "Dropdown(description='Klasa biletu', options=('Wszystkie', 1, 2, 3), value='Wszystkie')"
      ]
     },
     "metadata": {},
     "output_type": "display_data"
    },
    {
     "data": {
      "application/vnd.jupyter.widget-view+json": {
       "model_id": "889343a6a263429f949df8cef326f4a1",
       "version_major": 2,
       "version_minor": 0
      },
      "text/plain": [
       "Dropdown(description='Płeć', options=('Wszystkie', 'female', 'male'), value='Wszystkie')"
      ]
     },
     "metadata": {},
     "output_type": "display_data"
    },
    {
     "data": {
      "application/vnd.jupyter.widget-view+json": {
       "model_id": "4025c4d5f27b4c279f4d9373f410ad68",
       "version_major": 2,
       "version_minor": 0
      },
      "text/plain": [
       "Dropdown(description='Wiek', options=('Wszystkie', 1, 2, 3, 4, 5, 6, 7, 8, 9, 10, 11, 12, 13, 14, 15, 16, 17, …"
      ]
     },
     "metadata": {},
     "output_type": "display_data"
    },
    {
     "data": {
      "application/vnd.jupyter.widget-view+json": {
       "model_id": "16938648d2324288a341732bdcf6a963",
       "version_major": 2,
       "version_minor": 0
      },
      "text/plain": [
       "Dropdown(description='Współpasażerowie', options=('Wszystkie', 0, 1, 2, 3, 4, 5, 6, 7, 10), value='Wszystkie')"
      ]
     },
     "metadata": {},
     "output_type": "display_data"
    }
   ],
   "source": [
    "survived = data[data.Survived == 1]\n",
    "non_survived = data[data.Survived == 0]\n",
    "\n",
    "ALL = 'Wszystkie'\n",
    "def unique_sorted_values_plus_ALL(array):\n",
    "    unique = array.unique().tolist()\n",
    "    unique.sort()\n",
    "    unique.insert(0, ALL)\n",
    "    return unique\n",
    "\n",
    "dropdown_survived = widgets.Dropdown(\n",
    "    options = unique_sorted_values_plus_ALL(data.Survived), \n",
    "    description=\"Przeżycie\")\n",
    "dropdown_p_class = widgets.Dropdown(\n",
    "    options = unique_sorted_values_plus_ALL(data.Pclass), \n",
    "    description=\"Klasa biletu\")\n",
    "dropdown_sex = widgets.Dropdown(\n",
    "    options = unique_sorted_values_plus_ALL(data.Sex), \n",
    "    description=\"Płeć\")\n",
    "dropdown_age = widgets.Dropdown(\n",
    "    options = unique_sorted_values_plus_ALL(data.Age), \n",
    "    description=\"Wiek\")\n",
    "dropdown_family_size = widgets.Dropdown(\n",
    "    options = unique_sorted_values_plus_ALL(data.FamilySize), \n",
    "    description=\"Współpasażerowie\")\n",
    "\n",
    "output = widgets.Output()\n",
    "\n",
    "def common_filtering(survived, p_class, sex, age, family_size):\n",
    "    output.clear_output()\n",
    "    \n",
    "    if (survived == ALL) & (p_class == ALL) & (sex == ALL) &(age == ALL) & (family_size == ALL):\n",
    "        common_filter = data\n",
    "    elif (survived == ALL) & (p_class == ALL) & (sex ==ALL) & (age == ALL):\n",
    "        common_filter = data[data.FamilySize == family_size]\n",
    "    elif (survived == ALL) & (p_class == ALL) & (sex == ALL) & (family_size == ALL):\n",
    "        common_filter = data[data.Age == age]\n",
    "    elif (survived == ALL) & (sex == ALL) & (age == ALL) & (family_size == ALL):\n",
    "        common_filter = data[data.Pclass == p_class]\n",
    "    elif (survived == ALL) & (p_class == ALL) & (age == ALL) & (family_size == ALL):\n",
    "        common_filter = data[data.Sex == sex]\n",
    "    elif (survived == ALL) & (p_class == ALL) & (sex == ALL):\n",
    "        common_filter = data[(data.Age == age) &\n",
    "                             (data.FamilySize == family_size)]\n",
    "    elif (survived == ALL) & (p_class == ALL) & (age == ALL):\n",
    "        common_filter = data[(data.Sex == sex) &\n",
    "                             (data.FamilySize == family_size)]\n",
    "    elif (survived == ALL) & (p_class == ALL) & (family_size == ALL):\n",
    "        common_filter = data[(data.Sex == sex) &\n",
    "                             (data.Age == age)]\n",
    "    elif (survived == ALL) & (sex == ALL) & (age == ALL):\n",
    "        common_filter = data[(data.Pclass == p_class) &\n",
    "                             (data.FamilySize == family_size)]\n",
    "    elif (survived == ALL) & (sex == ALL) & (family_size == ALL):\n",
    "        common_filter = data[(data.Pclass == p_class) &\n",
    "                             (data.Age == age)]\n",
    "    elif (survived == ALL) & (age == ALL) & (family_size == ALL):\n",
    "        common_filter = data[(data.Pclass == p_class) &\n",
    "                             (data.Sex == sex)]\n",
    "    elif (survived == ALL) & (p_class == ALL):\n",
    "        common_filter = data[(data.Sex == sex) &\n",
    "                             (data.Age == age) & \n",
    "                             (data.FamilySize == family_size)]\n",
    "    elif (survived == ALL) & (sex == ALL):\n",
    "        common_filter = data[(data.Pclass == p_class) &\n",
    "                             (data.Age == age) & \n",
    "                             (data.FamilySize == family_size)]\n",
    "    elif (survived == ALL) & (age == ALL):\n",
    "        common_filter = data[(data.Pclass == p_class) &\n",
    "                             (data.Sex == sex) & \n",
    "                             (data.FamilySize == family_size)]\n",
    "    elif (survived == ALL) & (family_size == ALL):\n",
    "        common_filter = data[(data.Sex == sex) &\n",
    "                             (data.Age == age) &\n",
    "                             (data.Pclass == p_class)]\n",
    "    elif (survived == ALL):\n",
    "        common_filter = data[(data.Pclass == p_class) & \n",
    "                             (data.Sex == sex) &\n",
    "                             (data.Age == age) &\n",
    "                             (data.FamilySize == family_size)]\n",
    "    elif (p_class == ALL) & (sex == ALL) & (age == ALL) & (family_size == ALL):\n",
    "        common_filter = data[data.Survived == survived]\n",
    "    elif (p_class == ALL) & (age == ALL) & (family_size == ALL):\n",
    "        common_filter = data[(data.Survived == survived) & \n",
    "                             (data.Sex == sex)]\n",
    "    elif (p_class == ALL) & (sex == ALL) & (family_size == ALL):\n",
    "        common_filter = data[(data.Survived == survived) & \n",
    "                             (data.Age == age)]\n",
    "    elif (p_class == ALL) & (sex == ALL) & (age == ALL):\n",
    "        common_filter = data[(data.Survived == survived) & \n",
    "                             (data.FamilySize == family_size)]\n",
    "    elif (p_class == ALL) & (age == ALL):\n",
    "        common_filter = data[(data.Survived == survived) & \n",
    "                             (data.Sex == sex) &\n",
    "                             (data.FamilySize == family_size)]\n",
    "    elif (p_class == ALL) & (family_size == ALL):\n",
    "        common_filter = data[(data.Survived == survived) & \n",
    "                             (data.Sex == sex) &\n",
    "                             (data.Age == age)]\n",
    "    elif (p_class == ALL):\n",
    "        common_filter = data[(data.Survived == survived) & \n",
    "                             (data.Sex == sex) &\n",
    "                             (data.Age == age) & \n",
    "                             (data.FamilySize == family_size)]\n",
    "    elif (sex == ALL) & (age == ALL) & (family_size == ALL):\n",
    "        common_filter = data[(data.Survived == survived) & \n",
    "                             (data.Pclass == p_class)]\n",
    "    elif (sex == ALL) & (age == ALL):\n",
    "        common_filter = data[(data.Survived == survived) & \n",
    "                             (data.Pclass == p_class) & \n",
    "                             (data.FamilySize == family_size)]\n",
    "    elif (sex == ALL) & (family_size == ALL):\n",
    "        common_filter = data[(data.Survived == survived) & \n",
    "                             (data.Pclass == p_class) & \n",
    "                             (data.Age == age)]\n",
    "    elif (age == ALL) & (family_size == ALL):\n",
    "        common_filter = data[(data.Survived == survived) & \n",
    "                             (data.Sex == sex) &\n",
    "                             (data.Pclass == p_class)]\n",
    "    elif (age == ALL):\n",
    "        common_filter = data[(data.Survived == survived) &\n",
    "                             (data.Pclass == p_class) & \n",
    "                             (data.Sex == sex) &\n",
    "                             (data.FamilySize == family_size)]\n",
    "    elif (family_size == ALL):\n",
    "        common_filter = data[(data.Survived == survived) &\n",
    "                             (data.Pclass == p_class) & \n",
    "                             (data.Sex == sex) & \n",
    "                             (data.Age == age)]\n",
    "    elif (sex == ALL):\n",
    "        common_filter = data[(data.Survived == survived) &\n",
    "                             (data.Pclass == p_class) & \n",
    "                             (data.Age == age) & \n",
    "                             (data.FamilySize == family_size)]\n",
    "    else:\n",
    "        common_filter = data[(data.Survived == survived) & \n",
    "                             (data.Pclass == p_class) &\n",
    "                             (data.Sex == sex) &\n",
    "                             (data.Age == age) &\n",
    "                             (data.FamilySize == family_size)]\n",
    "    \n",
    "    with output:\n",
    "        display(common_filter)\n",
    "        \n",
    "with output:\n",
    "    display(common_filtering(ALL, ALL, ALL, ALL, ALL))\n",
    "        \n",
    "def dropdown_survived_eventhandler(change):\n",
    "    common_filtering(\n",
    "        change.new, \n",
    "        dropdown_p_class.value,\n",
    "        dropdown_sex.value,\n",
    "        dropdown_age.value, \n",
    "        dropdown_family_size.value)\n",
    "def dropdown_p_class_eventhandler(change):\n",
    "    common_filtering(\n",
    "        dropdown_survived.value, \n",
    "        change.new,\n",
    "        dropdown_sex.value,\n",
    "        dropdown_age.value, \n",
    "        dropdown_family_size.value)\n",
    "def dropdown_sex_eventhandler(change):\n",
    "    common_filtering(\n",
    "        dropdown_survived.value, \n",
    "        dropdown_p_class.value, \n",
    "        change.new,\n",
    "        dropdown_age.value, \n",
    "        dropdown_family_size.value)\n",
    "def dropdown_age_eventhandler(change):\n",
    "    common_filtering(\n",
    "        dropdown_survived.value, \n",
    "        dropdown_p_class.value,\n",
    "        dropdown_sex.value,\n",
    "        change.new, \n",
    "        dropdown_family_size.value)\n",
    "def dropdown_family_size_eventhandler(change):\n",
    "    common_filtering(\n",
    "        dropdown_survived.value, \n",
    "        dropdown_p_class.value, \n",
    "        dropdown_sex.value,\n",
    "        dropdown_age.value, \n",
    "        change.new)\n",
    "\n",
    "dropdown_survived.observe(dropdown_survived_eventhandler, names='value')\n",
    "dropdown_p_class.observe(dropdown_p_class_eventhandler, names='value')\n",
    "dropdown_sex.observe(dropdown_sex_eventhandler, names='value')\n",
    "dropdown_age.observe(dropdown_age_eventhandler, names='value')\n",
    "dropdown_family_size.observe(dropdown_family_size_eventhandler, names='value')\n",
    "\n",
    "display(dropdown_survived)\n",
    "display(dropdown_p_class)\n",
    "display(dropdown_sex)\n",
    "display(dropdown_age)\n",
    "display(dropdown_family_size)"
   ]
  },
  {
   "cell_type": "code",
   "execution_count": 10,
   "metadata": {},
   "outputs": [
    {
     "data": {
      "application/vnd.jupyter.widget-view+json": {
       "model_id": "664c0c54c41c483e8501209fbea6e670",
       "version_major": 2,
       "version_minor": 0
      },
      "text/plain": [
       "Output(outputs=({'output_type': 'display_data', 'data': {'text/plain': '     PassengerId  Survived  Pclass    …"
      ]
     },
     "metadata": {},
     "output_type": "display_data"
    }
   ],
   "source": [
    "display(output)"
   ]
  },
  {
   "cell_type": "markdown",
   "metadata": {},
   "source": [
    "Przejdźmy już do analizy oraz storytellingu. Na początku przedstawiony został wykres słupkowy pokazujący współczynnik przeżycia."
   ]
  },
  {
   "cell_type": "code",
   "execution_count": 11,
   "metadata": {},
   "outputs": [
    {
     "data": {
      "image/png": "[encoded data removed]",
      "text/plain": [
       "<Figure size 432x288 with 1 Axes>"
      ]
     },
     "metadata": {
      "needs_background": "light"
     },
     "output_type": "display_data"
    }
   ],
   "source": [
    "sns.countplot(x='Survived', data = data, palette='Set1')\n",
    "plt.xlabel('Przeżycie')\n",
    "plt.ylabel('Liczba osób')\n",
    "plt.title('Wskaźnik przeżycia')\n",
    "plt.show()"
   ]
  },
  {
   "cell_type": "markdown",
   "metadata": {},
   "source": [
    "Na osi X mamy zmienną Survived informującą o tym czy pasażer przeżył katastrofe, 0 oznacza, że nie przeżył, natomiast 1 oznacza, że pasażer przeżył. Na osi Y przedstawiona została liczba wszystkich pasażerów. Można zauważyć, że katastrofy nie przeżyło ponad 500 osób, a przeżyło około 340 pasażerów.\n",
    "\n",
    "### Płeć\n",
    "\n",
    "Na początku weźmy pod uwagę płeć. Poniżej można znaleźć wykres przedstawiający wskaźnik przeżycia ze względu na płeć. "
   ]
  },
  {
   "cell_type": "code",
   "execution_count": 12,
   "metadata": {},
   "outputs": [
    {
     "data": {
      "image/png": "[encoded data removed]",
      "text/plain": [
       "<Figure size 360x360 with 1 Axes>"
      ]
     },
     "metadata": {
      "needs_background": "light"
     },
     "output_type": "display_data"
    }
   ],
   "source": [
    "sns.catplot(x =\"Sex\", hue =\"Survived\", kind =\"count\", data = data, legend = False)\n",
    "plt.title('Wskaźnik przeżycia ze względu na płeć')\n",
    "plt.xlabel('Płeć')\n",
    "plt.ylabel('Liczba pasażerów')\n",
    "plt.legend(title='Przeżycie', labels=['Tak', 'Nie'])\n",
    "plt.show()"
   ]
  },
  {
   "cell_type": "markdown",
   "metadata": {},
   "source": [
    "#### Story\n",
    "\n",
    "W przypadku analizy płci ewidentnie widać, że przeżyło dużo więcej kobiet niż mężczyzn. Prawdopodobnie stoi za tym fakt, że mężczyzni w momencie kiedy doszło do katastrofy zajęli się ratowaniem dzieci i kobiet, a dopiero później mogli ratować sami siebie.\n",
    "\n",
    "### Wiek\n",
    "\n",
    "Kolejnym czynnikiem, który prawdopodobnie ma wpływ na to czy dana osoba przeżyła jest wiek. Poniżej można znaleźć dwa histogramy, na pierwszym przedstawiono wiek ludzi, którym udało się przeżyć, a na drugim wiek ludzi, których nie udało się uratować."
   ]
  },
  {
   "cell_type": "code",
   "execution_count": 13,
   "metadata": {
    "scrolled": true
   },
   "outputs": [
    {
     "data": {
      "image/png": "[encoded data removed]",
      "text/plain": [
       "<Figure size 432x288 with 1 Axes>"
      ]
     },
     "metadata": {
      "needs_background": "light"
     },
     "output_type": "display_data"
    }
   ],
   "source": [
    "survived.Age.plot.hist(grid=True, bins=20, rwidth=0.9,\n",
    "                   color='darkmagenta')\n",
    "plt.title('Wiek ludzi, którzy przeżyli katastrofe')\n",
    "plt.xlabel('Wiek w latach')\n",
    "plt.ylabel('Liczba osób')\n",
    "plt.ylim(0, 200)\n",
    "plt.grid(axis='y', alpha=1)"
   ]
  },
  {
   "cell_type": "code",
   "execution_count": 14,
   "metadata": {},
   "outputs": [
    {
     "data": {
      "image/png": "[encoded data removed]",
      "text/plain": [
       "<Figure size 432x288 with 1 Axes>"
      ]
     },
     "metadata": {
      "needs_background": "light"
     },
     "output_type": "display_data"
    }
   ],
   "source": [
    "non_survived.Age.plot.hist(grid=True, bins=20, rwidth=0.9,\n",
    "                   color='darkmagenta')\n",
    "plt.title('Wiek ludzi, którzy przeżyli katastrofe')\n",
    "plt.xlabel('Wiek w latach')\n",
    "plt.ylabel('Liczba osób')\n",
    "plt.ylim(0, 200)\n",
    "plt.grid(axis='y', alpha=1)"
   ]
  },
  {
   "cell_type": "markdown",
   "metadata": {},
   "source": [
    "Na przedstawionych histogramach, na osi X przedstawiony został wiek, natomiast oś Y przedstawia liczbę osób. \n",
    "\n",
    "#### Story\n",
    "\n",
    "Należy zauważyć, że współczynnik przeżycia jest największy dla dzieci do 10 roku życia, zginęło także bardzo dużo osób w wieku od 20 do 40 lat. W przypadku dzieci wniosek nasuwa się sam, wszyscy na początku katastrofy zajęli się ratowaniem dzieci, oprócz tego, miały one również wsparcie swoich rodziców. Fakt, że zginęło dużo osób w wieku od 20 do 40 roku życia pokazuje, że osoby te poza ratowaniem samego siebie musiały również pomóc innym.\n",
    "\n",
    "### Licba współpasażerów\n",
    "\n",
    "Kolejnym czynnikiem, który wybrałem i uważam, że może mieć wpływ na to czy dany pasażer przeżył katastrofe jest liczba współpasażerów w postaci brata/siostry, żony/męża lub rodzica/dziecka. W przygotowaniu danych, wartości ze zmiennych SibSp oraz Parch zostały zsumowane do zmiennej FamilySize, która jest teraz wykorzystywana."
   ]
  },
  {
   "cell_type": "code",
   "execution_count": 15,
   "metadata": {},
   "outputs": [
    {
     "name": "stderr",
     "output_type": "stream",
     "text": [
      "/home/wojtek/anaconda3/lib/python3.8/site-packages/seaborn/categorical.py:3704: UserWarning: The `factorplot` function has been renamed to `catplot`. The original name will be removed in a future release. Please update your code. Note that the default `kind` in `factorplot` (`'point'`) has changed `'strip'` in `catplot`.\n",
      "  warnings.warn(msg)\n"
     ]
    },
    {
     "data": {
      "image/png": "[encoded data removed]",
      "text/plain": [
       "<Figure size 360x360 with 1 Axes>"
      ]
     },
     "metadata": {
      "needs_background": "light"
     },
     "output_type": "display_data"
    }
   ],
   "source": [
    "sns.factorplot(x ='FamilySize', y ='Survived', data = data)\n",
    "plt.xlabel('Liczba współpasażerów')\n",
    "plt.ylabel('Współczynnik przeżycia')\n",
    "plt.title('Wskaźnik przeżycia ze względu na liczbę współpasażerów')\n",
    "plt.show()"
   ]
  },
  {
   "cell_type": "markdown",
   "metadata": {},
   "source": [
    "#### Story\n",
    "\n",
    "Jak zaznaczałem wcześniej, w zmiennej FamilySize zostały zapisane informacje o liczbie współpasażerów. Najważniejsze co można powiedzieć to fakt, że jeżeli pasażer była sam to miał dużo mniejsze prawdopodobieństwo przeżycia. Pasażerowie podróżujący sami, mimo tego, że mogli się skupiać tylko na sobie to nie mieli z tego tytułu praktycznie żadnych korzyści.\n",
    "\n",
    "### Klasa biletu\n",
    "\n",
    "Czwartym i ostatnim czynnikiem, który może mieć wpływ na to czy pasażer przeżył katastrofe jest klasa biletu, którą posiadał."
   ]
  },
  {
   "cell_type": "code",
   "execution_count": 16,
   "metadata": {},
   "outputs": [
    {
     "data": {
      "image/png": "[encoded data removed]",
      "text/plain": [
       "<Figure size 432x288 with 1 Axes>"
      ]
     },
     "metadata": {
      "needs_background": "light"
     },
     "output_type": "display_data"
    }
   ],
   "source": [
    "sns.barplot(x='Pclass', y='Survived', data=data)\n",
    "plt.xlabel('Klasa biletu')\n",
    "plt.ylabel('Współczynnik przeżycia')\n",
    "plt.title('Wskaźnik przeżycia ze względu na klase biletu')\n",
    "plt.show()"
   ]
  },
  {
   "cell_type": "markdown",
   "metadata": {},
   "source": [
    "Na osi X przedstawiona została klasa biletu przyjmująca wartości od 1 do 3, gdzie 1 jest najwyższą klasą, a 3 najniższą. Oś Y przedstawia współczynik przeżycia.\n",
    "\n",
    "#### Story\n",
    "\n",
    "Można zauważyć, że współczynnik przeżycia dla klasy pierwszej jest prawie tak duży jak sumarycznie dla klasy drugiej i trzeciej. Wyraźnie widać, że klasa biletu przyczynia się do szansy na przeżycie osoby, zwłaszcza jeśli ta osoba jest w klasie 1.\n",
    "\n",
    "\n",
    "## Podsumowanie i wnioski\n",
    "\n",
    "Przed przystąpieniem do analizy należało zająć się zbiorem danych. Początkowo zająłem się analizą jak wygląda zbiór danych, jakie zmienne oraz jakiego typu zawiera. Następnie przygotowałem zbiór danych do analizy, m.in. zająłem się usunięciem wierszów, które zawierały brakujące dane oraz utworzyłem kilka zmiennych, które były wykorzystywane w analizie. Wybrałem również kilka zmiennych ze zbioru danych, które moim zdaniem miały wpływ na to czy pasażer przeżył katastrofe. W sekcji analizy przeanalizowałem oraz interpretowałem wykresy oparte o zmienne, o których mowa wcześniej.\n",
    "\n",
    "Uważam, że główne czynniki, które miały wpływ na to czy pasażer przeżył katastrofe to płeć, wiek oraz klasa biletu. Zbadana została również zmienna informująca o liczbie współpasażerów danej osoby, z której wynika, że osoby, które podróżowały same miały najmniejsze szanse na przeżycie pod tym kątem. W przypadku płci widać zależność, że przeżyło dużo więcej kobiet niż mężczyzn, podobnie jest z dziećmi do 10 roku życia. Widać również zależność, że umieralność jest większa w wieku 20-40 lat co prawdopodobnie wynika z tego, że osoby w tym wieku zajmowały się głównie ratowaniem innych. Ostatnim czynnikiem, który według mnie miał wpływ na to czy danej osobie udało się przeżyć jest klasa biletu, którą posiadał. Współczynnik przeżycia jest zdecydowanie wyższy dla biletów o wyższej klasie."
   ]
  }
 ],
 "metadata": {
  "kernelspec": {
   "display_name": "Python 3",
   "language": "python",
   "name": "python3"
  },
  "language_info": {
   "codemirror_mode": {
    "name": "ipython",
    "version": 3
   },
   "file_extension": ".py",
   "mimetype": "text/x-python",
   "name": "python",
   "nbconvert_exporter": "python",
   "pygments_lexer": "ipython3",
   "version": "3.8.5"
  }
 },
 "nbformat": 4,
 "nbformat_minor": 4
}
